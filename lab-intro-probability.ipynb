{
 "cells": [
  {
   "cell_type": "markdown",
   "metadata": {},
   "source": [
    "# Lab | Intro to Probability"
   ]
  },
  {
   "cell_type": "markdown",
   "metadata": {},
   "source": [
    "**Objective**\n",
    "\n",
    "Welcome to this Intro to Probability lab, where we explore decision-making scenarios through the lens of probability and strategic analysis. In the business world, making informed decisions is crucial, especially when faced with uncertainties. This lab focuses on scenarios where probabilistic outcomes play a significant role in shaping strategies and outcomes. Students will engage in exercises that require assessing and choosing optimal paths based on data-driven insights. The goal is to enhance your skills by applying probability concepts to solve real-world problems."
   ]
  },
  {
   "cell_type": "markdown",
   "metadata": {},
   "source": [
    "**Challenge 1**"
   ]
  },
  {
   "cell_type": "markdown",
   "metadata": {},
   "source": [
    "#### Ironhack Airlines \n",
    "\n",
    "Often Airlines sell more tickets than they have seats available, this is called overbooking. Consider the following:\n",
    "- A plane has 450 seats. \n",
    "- Based on historical data we conclude that each individual passenger has a 3% chance of missing it's flight. \n",
    "\n",
    "If the Ironhack Airlines routinely sells 460 tickets, what is the chance that they have a seats for all passenger?"
   ]
  },
  {
   "cell_type": "code",
   "execution_count": 2,
   "metadata": {},
   "outputs": [],
   "source": [
    "# Import necessary libraries\n",
    "import scipy.stats as stats"
   ]
  },
  {
   "cell_type": "code",
   "execution_count": null,
   "metadata": {},
   "outputs": [
    {
     "name": "stdout",
     "output_type": "stream",
     "text": [
      "The probability that there are enough seats for all passengers is 0.8845\n"
     ]
    }
   ],
   "source": [
    "\"\"\" Approach:\n",
    "We can use the binomial distribution to model the number of passengers who show up. \n",
    "We need to calculate the probability that 450 or fewer passengers show up out of the 460 ticketed passengers.\"\"\"\n",
    "\n",
    "# Define the parameters\n",
    "n = 460  # number of tickets sold\n",
    "p = 0.97  # probability that a passenger shows up (1 - 0.03)\n",
    "\n",
    "# Calculate the cumulative probability that 450 or fewer passengers show up\n",
    "probability = stats.binom.cdf(450, n, p)\n",
    "\n",
    "# Print the result\n",
    "print(f\"The probability that there are enough seats for all passengers is {probability:.4f}\")"
   ]
  },
  {
   "cell_type": "code",
   "execution_count": 4,
   "metadata": {},
   "outputs": [
    {
     "name": "stdout",
     "output_type": "stream",
     "text": [
      "The probability that a passenger does not have a seat is 0.1155\n"
     ]
    }
   ],
   "source": [
    "# Define the parameters\n",
    "n = 460  # number of tickets sold\n",
    "p = 0.97  # probability that a passenger shows up (1 - 0.03)\n",
    "\n",
    "# Calculate the cumulative probability that 450 or fewer passengers show up\n",
    "probability_seats_available = stats.binom.cdf(450, n, p)\n",
    "\n",
    "# Calculate the probability that more than 450 passengers show up\n",
    "probability_no_seat = 1 - probability_seats_available\n",
    "\n",
    "# Print the result\n",
    "print(f\"The probability that a passenger does not have a seat is {probability_no_seat:.4f}\")"
   ]
  },
  {
   "cell_type": "code",
   "execution_count": 5,
   "metadata": {},
   "outputs": [
    {
     "name": "stdout",
     "output_type": "stream",
     "text": [
      "The probability that there are enough seats for all passengers when selling 455 tickets is 0.9979\n",
      "The probability that a passenger does not have a seat when selling 455 tickets is 0.0021\n"
     ]
    }
   ],
   "source": [
    "# Define the parameters for selling 455 tickets\n",
    "n_455 = 455  # number of tickets sold\n",
    "\n",
    "# Calculate the cumulative probability that 450 or fewer passengers show up\n",
    "probability_seats_available_455 = stats.binom.cdf(450, n_455, p)\n",
    "\n",
    "# Calculate the probability that more than 450 passengers show up\n",
    "probability_no_seat_455 = 1 - probability_seats_available_455\n",
    "\n",
    "# Print the results\n",
    "print(f\"The probability that there are enough seats for all passengers when selling 455 tickets is {probability_seats_available_455:.4f}\")\n",
    "print(f\"The probability that a passenger does not have a seat when selling 455 tickets is {probability_no_seat_455:.4f}\")"
   ]
  },
  {
   "cell_type": "code",
   "execution_count": 9,
   "metadata": {},
   "outputs": [
    {
     "name": "stdout",
     "output_type": "stream",
     "text": [
      "The maximum number of tickets that can be sold to ensure seating all passengers with 99.0% confidence is 456\n"
     ]
    }
   ],
   "source": [
    "# Import necessary libraries\n",
    "import scipy.stats as stats\n",
    "\n",
    "# Define the parameters\n",
    "seats = 450  # number of seats available\n",
    "p = 0.97  # probability that a passenger shows up (1 - 0.03)\n",
    "confidence_level = 0.99  # desired confidence level\n",
    "\n",
    "# Initialize variables\n",
    "max_tickets = 460  # start with a higher number of tickets\n",
    "\n",
    "# Loop to find the maximum number of tickets that can be sold\n",
    "while max_tickets > seats:\n",
    "    probability_seats_available = stats.binom.cdf(seats, max_tickets, p)\n",
    "    if probability_seats_available >= confidence_level:\n",
    "        break\n",
    "    max_tickets -= 1\n",
    "\n",
    "# Print the result\n",
    "print(f\"The maximum number of tickets that can be sold to ensure seating all passengers with {confidence_level*100}% confidence is {max_tickets}\")"
   ]
  },
  {
   "cell_type": "markdown",
   "metadata": {},
   "source": [
    "**Challenge 2**"
   ]
  },
  {
   "cell_type": "markdown",
   "metadata": {},
   "source": [
    "#### Ironhack Call Center "
   ]
  },
  {
   "cell_type": "markdown",
   "metadata": {},
   "source": [
    "Suppose a customer service representative at a call center is handling customer complaints. Consider the following:\n",
    "- The probability of successfully resolving a customer complaint on the first attempt is 0.3. \n",
    "\n",
    "\n",
    "What is the probability that the representative needs to make at least three attempts before successfully resolving a customer complaint?"
   ]
  },
  {
   "cell_type": "code",
   "execution_count": null,
   "metadata": {},
   "outputs": [
    {
     "name": "stdout",
     "output_type": "stream",
     "text": [
      "The probability that the representative needs at least three attempts is 0.4900\n"
     ]
    }
   ],
   "source": [
    "\"\"\" Approach:\n",
    "This problem can be modeled using the geometric distribution, \n",
    "which describes the number of trials needed for the first success in a series of Bernoulli trials.\n",
    "\n",
    "The probability that the representative needs at least three attempts is the complement of the probability \n",
    "of resolving the complaint in the first two attempts \"\"\"\n",
    "\n",
    "# Define the parameters\n",
    "p = 0.3  # probability of successfully resolving a complaint on the first attempt\n",
    "\n",
    "# Calculate the probability of resolving the complaint in the first two attempts\n",
    "probability_first_two_attempts = stats.geom.cdf(2, p)\n",
    "\n",
    "# Calculate the probability of needing at least three attempts\n",
    "probability_at_least_three_attempts = 1 - probability_first_two_attempts\n",
    "\n",
    "# Print the result\n",
    "print(f\"The probability that the representative needs at least three attempts is {probability_at_least_three_attempts:.4f}\")"
   ]
  },
  {
   "cell_type": "markdown",
   "metadata": {},
   "source": [
    "**Challenge 3**"
   ]
  },
  {
   "cell_type": "markdown",
   "metadata": {},
   "source": [
    "#### Ironhack Website"
   ]
  },
  {
   "cell_type": "markdown",
   "metadata": {},
   "source": [
    "Consider a scenario related to Ironhack website traffic. Where:\n",
    "- our website takes on average 500 visits per hour.\n",
    "- the website's server is designed to handle up to 550 vists per hour.\n",
    "\n",
    "\n",
    "What is the probability of the website server being overwhelmed?"
   ]
  },
  {
   "cell_type": "code",
   "execution_count": 14,
   "metadata": {},
   "outputs": [
    {
     "name": "stdout",
     "output_type": "stream",
     "text": [
      "The probability that the server will be overwhelmed in a given hour is 0.0129\n"
     ]
    }
   ],
   "source": [
    "\"\"\"Approach:\n",
    "This problem can be modeled using the Poisson distribution, \n",
    "which describes the number of events occurring within a fixed interval of time or space.\n",
    "\n",
    "The probability that the server will be overwhelmed is the probability that the number of visits in an hour exceeds 550. \"\"\"\n",
    "\n",
    "# Define the parameters\n",
    "lambda_ = 500  # average number of visits per hour\n",
    "capacity = 550  # server capacity in visits per hour\n",
    "\n",
    "# Calculate the probability that the server will be overwhelmed\n",
    "probability_overwhelmed = 1 - stats.poisson.cdf(capacity, lambda_)\n",
    "\n",
    "# Print the result\n",
    "print(f\"The probability that the server will be overwhelmed in a given hour is {probability_overwhelmed:.4f}\")"
   ]
  },
  {
   "cell_type": "markdown",
   "metadata": {},
   "source": [
    "What is the probability of being overwhelmed at some point during a day? (consider 24hours)"
   ]
  },
  {
   "cell_type": "code",
   "execution_count": 22,
   "metadata": {},
   "outputs": [
    {
     "name": "stdout",
     "output_type": "stream",
     "text": [
      "The probability that the server will be overwhelmed at some point during a 24-hour period is 0.2677\n"
     ]
    }
   ],
   "source": [
    "\"\"\"Approach:\n",
    "To find the probability that the server will be overwhelmed at some point during a 24-hour period, \n",
    "we can use the result from Part 1 and apply it to each hour in the 24-hour period. \n",
    "\n",
    "We will use the complement rule to calculate the probability that the server is not overwhelmed\n",
    " in any of the 24 hours and then subtract this from 1.\"\"\"\n",
    "\n",
    "# Define the parameters\n",
    "lambda_ = 500  # average number of visits per hour\n",
    "capacity = 550  # server capacity in visits per hour\n",
    "hours = 24  # number of hours in the period\n",
    "\n",
    "# Calculate the probability that the server will be overwhelmed in a given hour\n",
    "probability_overwhelmed_per_hour = 1 - stats.poisson.cdf(capacity, lambda_)\n",
    "\n",
    "# Calculate the probability that the server will not be overwhelmed in any of the 24 hours\n",
    "probability_not_overwhelmed_24_hours = (1 - probability_overwhelmed_per_hour) ** hours\n",
    "\n",
    "# Calculate the probability that the server will be overwhelmed at some point during the 24-hour period\n",
    "probability_overwhelmed_24_hours = 1 - probability_not_overwhelmed_24_hours\n",
    "\n",
    "# Print the result\n",
    "print(f\"The probability that the server will be overwhelmed at some point during a 24-hour period is {probability_overwhelmed_24_hours:.4f}\")\n"
   ]
  },
  {
   "cell_type": "markdown",
   "metadata": {},
   "source": [
    "**Challenge 4**"
   ]
  },
  {
   "cell_type": "markdown",
   "metadata": {},
   "source": [
    "#### Ironhack Helpdesk"
   ]
  },
  {
   "cell_type": "markdown",
   "metadata": {},
   "source": [
    "Consider a scenario related to the time between arrivals of customers at a service desk.\n",
    "\n",
    "On average, a customers arrives every 10minutes.\n",
    "\n",
    "What is the probability that the next customer will arrive within the next 5 minutes?"
   ]
  },
  {
   "cell_type": "code",
   "execution_count": 28,
   "metadata": {},
   "outputs": [
    {
     "name": "stdout",
     "output_type": "stream",
     "text": [
      "The probability that the next customer arrives within 5 minutes is 0.3935\n"
     ]
    }
   ],
   "source": [
    "\"\"\"Approach:\n",
    "This problem can be modeled using the exponential distribution, which describes the time between events in a Poisson process.\n",
    "\n",
    "The probability that the next customer arrives within a certain time can be calculated \n",
    "using the cumulative distribution function (CDF) of the exponential distribution.\"\"\"\n",
    "\n",
    "# Define the parameters\n",
    "lambda_ = 1 / 10  # average rate of arrival (1 arrival every 10 minutes)\n",
    "time = 5  # time interval in minutes\n",
    "\n",
    "# Calculate the probability that the next customer arrives within 5 minutes\n",
    "probability_within_5_minutes = stats.expon.cdf(time, scale=1/lambda_)\n",
    "\n",
    "# Print the result\n",
    "print(f\"The probability that the next customer arrives within 5 minutes is {probability_within_5_minutes:.4f}\")"
   ]
  },
  {
   "cell_type": "markdown",
   "metadata": {},
   "source": [
    "If there is no customer for 15minutes, employees can take a 5minutes break.\n",
    "\n",
    "What is the probability an employee taking a break?"
   ]
  },
  {
   "cell_type": "code",
   "execution_count": null,
   "metadata": {},
   "outputs": [
    {
     "name": "stdout",
     "output_type": "stream",
     "text": [
      "The probability that an employee can take a 5-minute break if no customer arrives for 15 minutes is 0.2231\n"
     ]
    }
   ],
   "source": [
    "\"\"\"Approach:\n",
    "This problem can be modeled using the exponential distribution. \n",
    "We need to calculate the probability that no customer arrives within the next 15 minutes.\n",
    "\n",
    "The exponential distribution's memoryless property means that the probability of no arrivals\n",
    "in a specific time period is independent of the past. In this case, we want to calculate \n",
    "the probability of no customer arriving in the next 15 minutes.\n",
    "\n",
    "The survival function (SF) of the exponential distribution is used to determine this probability. The survival function is \n",
    "𝑃(𝑇>𝑡) = 𝑒−𝜆𝑡, where 𝜆 is the rate parameter and 𝑡 is the time interval considered.\"\"\"\n",
    "\n",
    "# Define the parameters\n",
    "lambda_ = 1 / 10  # average rate of arrival (1 arrival every 10 minutes)\n",
    "time_break = 15  # time interval for the break (15 minutes)\n",
    "\n",
    "# Calculate the probability that no customer arrives within the next 15 minutes\n",
    "probability_of_break = stats.expon.sf(time_break, scale=1/lambda_)\n",
    "\n",
    "# Print the result\n",
    "print(f\"The probability that an employee can take a 5-minute break if no customer arrives for 15 minutes is {probability_of_break:.4f}\")\n"
   ]
  },
  {
   "cell_type": "markdown",
   "metadata": {},
   "source": [
    "**Challenge 5**"
   ]
  },
  {
   "cell_type": "markdown",
   "metadata": {},
   "source": [
    "The weights of a certain species of birds follow a normal distribution with a mean weight of 150 grams and a standard deviation of 10 grams. \n",
    "\n",
    "- If we randomly select a bird, what is the probability that its weight is between 140 and 160 grams?"
   ]
  },
  {
   "cell_type": "code",
   "execution_count": 47,
   "metadata": {},
   "outputs": [
    {
     "name": "stdout",
     "output_type": "stream",
     "text": [
      "The probability that a randomly selected bird weighs between 140 and 160 grams is 0.6827\n"
     ]
    }
   ],
   "source": [
    "\"\"\"Approach:\n",
    "This problem can be modeled using the normal distribution. \n",
    "We need to calculate the probability that a bird's weight falls within the range of 140 to 160 grams. \n",
    "This can be done using the cumulative distribution function (CDF) of the normal distribution.\"\"\"\n",
    "\n",
    "# Define the parameters\n",
    "mean_weight = 150  # mean weight of the birds in grams\n",
    "std_dev = 10  # standard deviation of the bird weights in grams\n",
    "\n",
    "# Define the weight range\n",
    "lower_bound = 140  # lower bound of the weight range in grams\n",
    "upper_bound = 160  # upper bound of the weight range in grams\n",
    "\n",
    "# Calculate the cumulative probability up to the lower bound\n",
    "probability_lower_bound = stats.norm.cdf(lower_bound, mean_weight, std_dev)\n",
    "\n",
    "# Calculate the cumulative probability up to the upper bound\n",
    "probability_upper_bound = stats.norm.cdf(upper_bound, mean_weight, std_dev)\n",
    "\n",
    "# Calculate the probability that a bird weighs between 140 and 160 grams\n",
    "probability_between_bounds = probability_upper_bound - probability_lower_bound\n",
    "\n",
    "# Print the result\n",
    "print(f\"The probability that a randomly selected bird weighs between 140 and 160 grams is {probability_between_bounds:.4f}\")"
   ]
  },
  {
   "cell_type": "markdown",
   "metadata": {},
   "source": [
    "**Challenge 6**"
   ]
  },
  {
   "cell_type": "markdown",
   "metadata": {},
   "source": [
    "If the lifetime (in hours) of a certain electronic component follows an exponential distribution with a mean lifetime of 50 hours, what is the probability that the component fails within the first 30 hours?"
   ]
  },
  {
   "cell_type": "code",
   "execution_count": 41,
   "metadata": {},
   "outputs": [
    {
     "name": "stdout",
     "output_type": "stream",
     "text": [
      "The probability that the component fails within the first 30 hours is 0.4512\n"
     ]
    }
   ],
   "source": [
    "\"\"\"Approach:\n",
    "This problem can be modeled using the exponential distribution. \n",
    "We need to calculate the probability that the component fails within the first 30 hours. \n",
    "This can be done using the cumulative distribution function (CDF) of the exponential distribution.\"\"\"\n",
    "\n",
    "# Define the parameters\n",
    "mean_lifetime = 50  # mean lifetime of the component in hours\n",
    "lambda_ = 1 / mean_lifetime  # rate parameter (inverse of the mean)\n",
    "time_failure = 30  # time interval in hours\n",
    "\n",
    "# Calculate the probability that the component fails within the first 30 hours\n",
    "probability_failure_30_hours = stats.expon.cdf(time_failure, scale=1/lambda_)\n",
    "\n",
    "# Print the result\n",
    "print(f\"The probability that the component fails within the first 30 hours is {probability_failure_30_hours:.4f}\")"
   ]
  },
  {
   "cell_type": "markdown",
   "metadata": {},
   "source": [
    "Problem:\n",
    "The lifetime of an electronic component follows an exponential distribution with a mean of 50 hours. What is the probability that the component does not fail within 50 hours?"
   ]
  },
  {
   "cell_type": "code",
   "execution_count": 48,
   "metadata": {},
   "outputs": [
    {
     "name": "stdout",
     "output_type": "stream",
     "text": [
      "The probability that the component does not fail within 50 hours is 0.3679\n"
     ]
    }
   ],
   "source": [
    "\"\"\"Approach:\n",
    "This problem can be modeled using the exponential distribution. \n",
    "We need to calculate the probability that the component does not fail within 50 hours. \n",
    "\n",
    "This can be done using the survival function (SF) of the exponential distribution, \n",
    "which gives the probability that the lifetime of the component is greater than a certain value.\"\"\"\n",
    "\n",
    "# Define the parameters\n",
    "mean_lifetime = 50  # mean lifetime of the component in hours\n",
    "lambda_ = 1 / mean_lifetime  # rate parameter (inverse of the mean)\n",
    "time_interval = 50  # time interval in hours\n",
    "\n",
    "# Calculate the probability that the component does not fail within 50 hours\n",
    "probability_not_fail_50_hours = stats.expon.sf(time_interval, scale=1/lambda_)\n",
    "\n",
    "# Print the result\n",
    "print(f\"The probability that the component does not fail within 50 hours is {probability_not_fail_50_hours:.4f}\")"
   ]
  }
 ],
 "metadata": {
  "kernelspec": {
   "display_name": "Python 3",
   "language": "python",
   "name": "python3"
  },
  "language_info": {
   "codemirror_mode": {
    "name": "ipython",
    "version": 3
   },
   "file_extension": ".py",
   "mimetype": "text/x-python",
   "name": "python",
   "nbconvert_exporter": "python",
   "pygments_lexer": "ipython3",
   "version": "3.12.6"
  }
 },
 "nbformat": 4,
 "nbformat_minor": 2
}
